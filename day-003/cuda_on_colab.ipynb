{
  "cells": [
    {
      "cell_type": "markdown",
      "metadata": {
        "id": "8SnWeOi9qrNU"
      },
      "source": [
        "### Installation check"
      ]
    },
    {
      "cell_type": "code",
      "execution_count": 1,
      "metadata": {
        "colab": {
          "base_uri": "https://localhost:8080/"
        },
        "id": "ZA1C6v_JhI0E",
        "outputId": "365e172c-68e1-4f29-85b4-3255ea1be514"
      },
      "outputs": [
        {
          "name": "stdout",
          "output_type": "stream",
          "text": [
            "nvcc: NVIDIA (R) Cuda compiler driver\n",
            "Copyright (c) 2005-2024 NVIDIA Corporation\n",
            "Built on Thu_Jun__6_02:18:23_PDT_2024\n",
            "Cuda compilation tools, release 12.5, V12.5.82\n",
            "Build cuda_12.5.r12.5/compiler.34385749_0\n"
          ]
        }
      ],
      "source": [
        "!nvcc --version"
      ]
    },
    {
      "cell_type": "code",
      "execution_count": 2,
      "metadata": {
        "colab": {
          "base_uri": "https://localhost:8080/"
        },
        "id": "RqpxBnnzLe3v",
        "outputId": "981ca73d-80ae-4e18-8aa8-7a33180e7b45"
      },
      "outputs": [
        {
          "name": "stdout",
          "output_type": "stream",
          "text": [
            "Fri Apr  4 09:42:18 2025       \n",
            "+-----------------------------------------------------------------------------------------+\n",
            "| NVIDIA-SMI 550.54.15              Driver Version: 550.54.15      CUDA Version: 12.4     |\n",
            "|-----------------------------------------+------------------------+----------------------+\n",
            "| GPU  Name                 Persistence-M | Bus-Id          Disp.A | Volatile Uncorr. ECC |\n",
            "| Fan  Temp   Perf          Pwr:Usage/Cap |           Memory-Usage | GPU-Util  Compute M. |\n",
            "|                                         |                        |               MIG M. |\n",
            "|=========================================+========================+======================|\n",
            "|   0  Tesla T4                       Off |   00000000:00:04.0 Off |                    0 |\n",
            "| N/A   39C    P8              9W /   70W |       0MiB /  15360MiB |      0%      Default |\n",
            "|                                         |                        |                  N/A |\n",
            "+-----------------------------------------+------------------------+----------------------+\n",
            "                                                                                         \n",
            "+-----------------------------------------------------------------------------------------+\n",
            "| Processes:                                                                              |\n",
            "|  GPU   GI   CI        PID   Type   Process name                              GPU Memory |\n",
            "|        ID   ID                                                               Usage      |\n",
            "|=========================================================================================|\n",
            "|  No running processes found                                                             |\n",
            "+-----------------------------------------------------------------------------------------+\n"
          ]
        }
      ],
      "source": [
        "!nvidia-smi"
      ]
    },
    {
      "cell_type": "markdown",
      "metadata": {
        "id": "v1RhaZwCLW0z"
      },
      "source": [
        "### Run the code"
      ]
    },
    {
      "cell_type": "code",
      "execution_count": null,
      "metadata": {
        "colab": {
          "base_uri": "https://localhost:8080/"
        },
        "id": "mF3Gnj0_LW0z",
        "outputId": "9a9d204b-8aad-4f51-d63e-27f590d321d3"
      },
      "outputs": [
        {
          "name": "stdout",
          "output_type": "stream",
          "text": [
            "Loaded image: 512 x 512\n",
            "RGB[0] = (226, 137, 125)\n",
            "RGB[1] = (226, 137, 125)\n",
            "RGB[2] = (223, 137, 133)\n",
            "RGB[3] = (223, 136, 128)\n",
            "RGB[4] = (226, 138, 120)\n",
            "RGB[5] = (226, 129, 116)\n",
            "RGB[6] = (228, 138, 123)\n",
            "RGB[7] = (227, 134, 124)\n",
            "RGB[8] = (227, 140, 127)\n",
            "RGB[9] = (225, 136, 119)\n",
            "Pixel[0][0] = 153\n",
            "Pixel[0][1] = 153\n",
            "Pixel[0][2] = 153\n",
            "Pixel[0][3] = 152\n",
            "Pixel[0][4] = 153\n",
            "Pixel[0][5] = 147\n",
            "Pixel[0][6] = 154\n",
            "Pixel[0][7] = 151\n",
            "Pixel[0][8] = 155\n",
            "Pixel[0][9] = 152\n",
            "Pixel[1][0] = 153\n",
            "Pixel[1][1] = 153\n",
            "Pixel[1][2] = 153\n",
            "Pixel[1][3] = 152\n",
            "Pixel[1][4] = 153\n",
            "Pixel[1][5] = 147\n",
            "Pixel[1][6] = 154\n",
            "Pixel[1][7] = 151\n",
            "Pixel[1][8] = 155\n",
            "Pixel[1][9] = 152\n",
            "Pixel[2][0] = 153\n",
            "Pixel[2][1] = 153\n",
            "Pixel[2][2] = 153\n",
            "Pixel[2][3] = 152\n",
            "Pixel[2][4] = 153\n",
            "Pixel[2][5] = 147\n",
            "Pixel[2][6] = 154\n",
            "Pixel[2][7] = 151\n",
            "Pixel[2][8] = 155\n",
            "Pixel[2][9] = 152\n",
            "Pixel[3][0] = 153\n",
            "Pixel[3][1] = 153\n",
            "Pixel[3][2] = 153\n",
            "Pixel[3][3] = 152\n",
            "Pixel[3][4] = 153\n",
            "Pixel[3][5] = 147\n",
            "Pixel[3][6] = 154\n",
            "Pixel[3][7] = 151\n",
            "Pixel[3][8] = 155\n",
            "Pixel[3][9] = 152\n",
            "Pixel[4][0] = 153\n",
            "Pixel[4][1] = 153\n",
            "Pixel[4][2] = 153\n",
            "Pixel[4][3] = 152\n",
            "Pixel[4][4] = 153\n",
            "Pixel[4][5] = 147\n",
            "Pixel[4][6] = 154\n",
            "Pixel[4][7] = 151\n",
            "Pixel[4][8] = 155\n",
            "Pixel[4][9] = 152\n",
            "Pixel[5][0] = 155\n",
            "Pixel[5][1] = 155\n",
            "Pixel[5][2] = 148\n",
            "Pixel[5][3] = 146\n",
            "Pixel[5][4] = 152\n",
            "Pixel[5][5] = 150\n",
            "Pixel[5][6] = 149\n",
            "Pixel[5][7] = 150\n",
            "Pixel[5][8] = 151\n",
            "Pixel[5][9] = 151\n",
            "Pixel[6][0] = 151\n",
            "Pixel[6][1] = 151\n",
            "Pixel[6][2] = 155\n",
            "Pixel[6][3] = 149\n",
            "Pixel[6][4] = 151\n",
            "Pixel[6][5] = 153\n",
            "Pixel[6][6] = 149\n",
            "Pixel[6][7] = 146\n",
            "Pixel[6][8] = 150\n",
            "Pixel[6][9] = 153\n",
            "Pixel[7][0] = 149\n",
            "Pixel[7][1] = 149\n",
            "Pixel[7][2] = 146\n",
            "Pixel[7][3] = 148\n",
            "Pixel[7][4] = 149\n",
            "Pixel[7][5] = 149\n",
            "Pixel[7][6] = 146\n",
            "Pixel[7][7] = 148\n",
            "Pixel[7][8] = 149\n",
            "Pixel[7][9] = 152\n",
            "Pixel[8][0] = 146\n",
            "Pixel[8][1] = 146\n",
            "Pixel[8][2] = 149\n",
            "Pixel[8][3] = 149\n",
            "Pixel[8][4] = 150\n",
            "Pixel[8][5] = 151\n",
            "Pixel[8][6] = 147\n",
            "Pixel[8][7] = 148\n",
            "Pixel[8][8] = 154\n",
            "Pixel[8][9] = 148\n",
            "Pixel[9][0] = 146\n",
            "Pixel[9][1] = 146\n",
            "Pixel[9][2] = 149\n",
            "Pixel[9][3] = 149\n",
            "Pixel[9][4] = 145\n",
            "Pixel[9][5] = 145\n",
            "Pixel[9][6] = 146\n",
            "Pixel[9][7] = 148\n",
            "Pixel[9][8] = 152\n",
            "Pixel[9][9] = 144\n"
          ]
        }
      ],
      "source": [
        "!nvcc -o blur /content/blur.cu -arch=sm_75 -run --run-args /content/lena.bmp"
      ]
    }
  ],
  "metadata": {
    "accelerator": "GPU",
    "colab": {
      "name": "cuda_on_colab.ipynb",
      "provenance": []
    },
    "kernelspec": {
      "display_name": "Python 3",
      "name": "python3"
    },
    "language_info": {
      "name": "python"
    }
  },
  "nbformat": 4,
  "nbformat_minor": 0
}
