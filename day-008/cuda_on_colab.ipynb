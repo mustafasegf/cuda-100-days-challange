{
  "cells": [
    {
      "cell_type": "markdown",
      "metadata": {
        "id": "8SnWeOi9qrNU"
      },
      "source": [
        "### Installation check"
      ]
    },
    {
      "cell_type": "code",
      "execution_count": null,
      "metadata": {
        "colab": {
          "base_uri": "https://localhost:8080/"
        },
        "id": "ZA1C6v_JhI0E",
        "outputId": "365e172c-68e1-4f29-85b4-3255ea1be514"
      },
      "outputs": [],
      "source": [
        "!nvcc --version"
      ]
    },
    {
      "cell_type": "code",
      "execution_count": null,
      "metadata": {
        "colab": {
          "base_uri": "https://localhost:8080/"
        },
        "id": "RqpxBnnzLe3v",
        "outputId": "981ca73d-80ae-4e18-8aa8-7a33180e7b45"
      },
      "outputs": [],
      "source": [
        "!nvidia-smi"
      ]
    },
    {
      "cell_type": "markdown",
      "metadata": {
        "id": "v1RhaZwCLW0z"
      },
      "source": [
        "### Run the code"
      ]
    },
    {
      "cell_type": "code",
      "execution_count": null,
      "metadata": {
        "colab": {
          "base_uri": "https://localhost:8080/"
        },
        "id": "mF3Gnj0_LW0z",
        "outputId": "9a9d204b-8aad-4f51-d63e-27f590d321d3"
      },
      "outputs": [],
      "source": [
        "!nvcc -o matmul /content/matmul-tiled.cu -arch=sm_75 -run"
      ]
    }
  ],
  "metadata": {
    "accelerator": "GPU",
    "colab": {
      "name": "cuda_on_colab.ipynb",
      "provenance": []
    },
    "kernelspec": {
      "display_name": "Python 3",
      "name": "python3"
    },
    "language_info": {
      "name": "python"
    }
  },
  "nbformat": 4,
  "nbformat_minor": 0
}
